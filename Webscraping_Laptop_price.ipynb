{
 "cells": [
  {
   "cell_type": "markdown",
   "id": "88c651fb-3b47-4c29-b1b9-c6c5023ab19d",
   "metadata": {},
   "source": [
    "# Webscrapping for Flipkart laptop data "
   ]
  },
  {
   "cell_type": "code",
   "execution_count": 1,
   "id": "769beef8-8d67-4b04-bf74-c66c2a46a4a3",
   "metadata": {},
   "outputs": [],
   "source": [
    "import pandas as pd\n",
    "from bs4 import BeautifulSoup\n",
    "import requests"
   ]
  },
  {
   "cell_type": "code",
   "execution_count": 2,
   "id": "109f2735-c1f2-4def-9c8e-9e3804d0a3d4",
   "metadata": {},
   "outputs": [],
   "source": [
    "url = \"https://www.flipkart.com/search?q=gaming+laptop&sid=6bo%2Cb5g&as=on&as-show=on&otracker=AS_QueryStore_OrganicAutoSuggest_2_2_na_na_na&otracker1=AS_QueryStore_OrganicAutoSuggest_2_2_na_na_na&as-pos=2&as-type=RECENT&suggestionId=gaming+laptop%7CLaptops&requestId=a4082108-acd2-445d-b164-623ab48dde9f&as-backfill=on\""
   ]
  },
  {
   "cell_type": "code",
   "execution_count": 3,
   "id": "80bb3a5e-95f9-4163-8fb3-b324735e4a95",
   "metadata": {},
   "outputs": [
    {
     "data": {
      "text/plain": [
       "<Response [200]>"
      ]
     },
     "execution_count": 3,
     "metadata": {},
     "output_type": "execute_result"
    }
   ],
   "source": [
    "request = requests.get(url)\n",
    "request"
   ]
  },
  {
   "cell_type": "code",
   "execution_count": 5,
   "id": "eaa7f746-5598-4563-befe-2a4523d206e9",
   "metadata": {
    "scrolled": true,
    "tags": []
   },
   "outputs": [],
   "source": [
    "content = BeautifulSoup(request.text,'html.parser')\n",
    "#content"
   ]
  },
  {
   "cell_type": "code",
   "execution_count": 6,
   "id": "e6b7fc62-2c6d-44ad-b85c-e217ca6368be",
   "metadata": {
    "scrolled": true,
    "tags": []
   },
   "outputs": [],
   "source": [
    "#print(content.prettify())"
   ]
  },
  {
   "cell_type": "code",
   "execution_count": 7,
   "id": "6405dde2-ff41-469f-b638-ee2f6424bb6f",
   "metadata": {},
   "outputs": [],
   "source": [
    "product = content.find_all(\"div\",{'class':'_2kHMtA'})"
   ]
  },
  {
   "cell_type": "code",
   "execution_count": 8,
   "id": "9076bb94-5525-4329-a93f-275c1545a32f",
   "metadata": {
    "scrolled": true,
    "tags": []
   },
   "outputs": [],
   "source": [
    "item=product[0]\n"
   ]
  },
  {
   "cell_type": "code",
   "execution_count": 9,
   "id": "f16f215d-cd6d-430f-aa81-cad6ac631061",
   "metadata": {},
   "outputs": [],
   "source": [
    "name = item.find(\"div\",{'class':'_4rR01T'}).text.strip()\n",
    "price = item.find(\"div\",{'class':'_30jeq3 _1_WHN1'}).text.strip()\n",
    "rating = item.find(\"div\",{'class':'_3LWZlK'}).text.strip()"
   ]
  },
  {
   "cell_type": "code",
   "execution_count": 10,
   "id": "fb00ef47-21e9-40d7-a5fe-b7d7f80d0c4e",
   "metadata": {},
   "outputs": [
    {
     "data": {
      "text/plain": [
       "'MSI GF63 Thin Core i5 11th Gen - (8 GB/512 GB SSD/Windows 11 Home/4 GB Graphics/NVIDIA GeForce GTX 165...'"
      ]
     },
     "execution_count": 10,
     "metadata": {},
     "output_type": "execute_result"
    }
   ],
   "source": [
    "name\n",
    "# price\n",
    "# rating"
   ]
  },
  {
   "cell_type": "code",
   "execution_count": 11,
   "id": "8622762b-ca44-4cac-97c9-6fb0288710c7",
   "metadata": {},
   "outputs": [],
   "source": [
    "product_list = []\n",
    "for i in product: \n",
    "    temp_dict={}\n",
    "    temp_dict['name'] = i.find(\"div\",{'class':'_4rR01T'}).text.strip()\n",
    "    temp_dict['price'] = i.find(\"div\",{'class':'_30jeq3 _1_WHN1'}).text.strip()\n",
    "    rating = i.find(\"div\",{'class':'_3LWZlK'})\n",
    "    if rating is  None:\n",
    "        temp_dict['rating']=0\n",
    "    else:\n",
    "        temp_dict['rating']=rating.text.strip()\n",
    "    product_list.append(temp_dict)\n",
    "    "
   ]
  },
  {
   "cell_type": "code",
   "execution_count": 12,
   "id": "f936a7a3-68c2-4263-822e-9211ca5bb7c2",
   "metadata": {
    "scrolled": true,
    "tags": []
   },
   "outputs": [],
   "source": [
    "#product_list"
   ]
  },
  {
   "cell_type": "code",
   "execution_count": 13,
   "id": "9e5b2a57-7b72-4b1a-b72d-a40c663180c2",
   "metadata": {},
   "outputs": [
    {
     "data": {
      "text/html": [
       "<div>\n",
       "<style scoped>\n",
       "    .dataframe tbody tr th:only-of-type {\n",
       "        vertical-align: middle;\n",
       "    }\n",
       "\n",
       "    .dataframe tbody tr th {\n",
       "        vertical-align: top;\n",
       "    }\n",
       "\n",
       "    .dataframe thead th {\n",
       "        text-align: right;\n",
       "    }\n",
       "</style>\n",
       "<table border=\"1\" class=\"dataframe\">\n",
       "  <thead>\n",
       "    <tr style=\"text-align: right;\">\n",
       "      <th></th>\n",
       "      <th>name</th>\n",
       "      <th>price</th>\n",
       "      <th>rating</th>\n",
       "    </tr>\n",
       "  </thead>\n",
       "  <tbody>\n",
       "    <tr>\n",
       "      <th>0</th>\n",
       "      <td>MSI GF63 Thin Core i5 11th Gen - (8 GB/512 GB ...</td>\n",
       "      <td>₹49,990</td>\n",
       "      <td>4.4</td>\n",
       "    </tr>\n",
       "    <tr>\n",
       "      <th>1</th>\n",
       "      <td>acer Aspire 7 Ryzen 5 Hexa Core AMD R5-5500U -...</td>\n",
       "      <td>₹49,990</td>\n",
       "      <td>4.5</td>\n",
       "    </tr>\n",
       "    <tr>\n",
       "      <th>2</th>\n",
       "      <td>HP Pavilion Ryzen 5 Hexa Core AMD R5-5600H - (...</td>\n",
       "      <td>₹62,990</td>\n",
       "      <td>4.6</td>\n",
       "    </tr>\n",
       "    <tr>\n",
       "      <th>3</th>\n",
       "      <td>HP Pavilion Ryzen 5 Hexa Core AMD R5-5600H - (...</td>\n",
       "      <td>₹59,990</td>\n",
       "      <td>4.4</td>\n",
       "    </tr>\n",
       "    <tr>\n",
       "      <th>4</th>\n",
       "      <td>ASUS TUF Gaming F15 Core i5 10th Gen - (8 GB/5...</td>\n",
       "      <td>₹58,990</td>\n",
       "      <td>4.4</td>\n",
       "    </tr>\n",
       "    <tr>\n",
       "      <th>5</th>\n",
       "      <td>acer Aspire 7 Ryzen 5 Hexa Core 5500U - (16 GB...</td>\n",
       "      <td>₹53,990</td>\n",
       "      <td>4.5</td>\n",
       "    </tr>\n",
       "    <tr>\n",
       "      <th>6</th>\n",
       "      <td>MSI Core i5 11th Gen - (8 GB/512 GB SSD/Window...</td>\n",
       "      <td>₹55,990</td>\n",
       "      <td>4.5</td>\n",
       "    </tr>\n",
       "    <tr>\n",
       "      <th>7</th>\n",
       "      <td>Lenovo IdeaPad Gaming Core i5 11th Gen - (8 GB...</td>\n",
       "      <td>₹59,000</td>\n",
       "      <td>4.3</td>\n",
       "    </tr>\n",
       "    <tr>\n",
       "      <th>8</th>\n",
       "      <td>ASUS TUF Dash F15 Core i7 12th Gen - (16 GB/1 ...</td>\n",
       "      <td>₹1,01,990</td>\n",
       "      <td>4.4</td>\n",
       "    </tr>\n",
       "    <tr>\n",
       "      <th>9</th>\n",
       "      <td>ASUS ROG Strix G15 Ryzen 7 Octa Core AMD R7-48...</td>\n",
       "      <td>₹87,990</td>\n",
       "      <td>4.6</td>\n",
       "    </tr>\n",
       "    <tr>\n",
       "      <th>10</th>\n",
       "      <td>Lenovo IdeaPad Gaming 3 Core i5 11th Gen - (8 ...</td>\n",
       "      <td>₹67,490</td>\n",
       "      <td>4.4</td>\n",
       "    </tr>\n",
       "    <tr>\n",
       "      <th>11</th>\n",
       "      <td>acer Aspire 7 Core i5 12th Gen - (16 GB/512 GB...</td>\n",
       "      <td>₹61,990</td>\n",
       "      <td>4.3</td>\n",
       "    </tr>\n",
       "    <tr>\n",
       "      <th>12</th>\n",
       "      <td>MSI Sword 15 Core i5 12th Gen - (16 GB/512 GB ...</td>\n",
       "      <td>₹85,990</td>\n",
       "      <td>4.6</td>\n",
       "    </tr>\n",
       "    <tr>\n",
       "      <th>13</th>\n",
       "      <td>DELL Ryzen 5 Hexa Core AMD R5-5600H - (16 GB/5...</td>\n",
       "      <td>₹70,990</td>\n",
       "      <td>4.6</td>\n",
       "    </tr>\n",
       "    <tr>\n",
       "      <th>14</th>\n",
       "      <td>MSI Core i7 11th Gen - (8 GB/512 GB SSD/Window...</td>\n",
       "      <td>₹68,990</td>\n",
       "      <td>4.4</td>\n",
       "    </tr>\n",
       "    <tr>\n",
       "      <th>15</th>\n",
       "      <td>ASUS TUF Gaming A15 Ryzen 5 Hexa Core AMD R5-4...</td>\n",
       "      <td>₹65,990</td>\n",
       "      <td>4.5</td>\n",
       "    </tr>\n",
       "    <tr>\n",
       "      <th>16</th>\n",
       "      <td>ASUS TUF Gaming A17 with 90Whr Battery Ryzen 5...</td>\n",
       "      <td>₹63,990</td>\n",
       "      <td>4.4</td>\n",
       "    </tr>\n",
       "    <tr>\n",
       "      <th>17</th>\n",
       "      <td>ASUS TUF Gaming A15 with 90Whr Battery Ryzen 7...</td>\n",
       "      <td>₹89,990</td>\n",
       "      <td>4.5</td>\n",
       "    </tr>\n",
       "    <tr>\n",
       "      <th>18</th>\n",
       "      <td>DELL Core i5 11th Gen - (16 GB/512 GB SSD/Wind...</td>\n",
       "      <td>₹72,317</td>\n",
       "      <td>4.1</td>\n",
       "    </tr>\n",
       "    <tr>\n",
       "      <th>19</th>\n",
       "      <td>ASUS TUF Gaming F17 (2022) Core i7 12th Gen - ...</td>\n",
       "      <td>₹1,14,990</td>\n",
       "      <td>4</td>\n",
       "    </tr>\n",
       "    <tr>\n",
       "      <th>20</th>\n",
       "      <td>MSI Core i7 11th Gen - (8 GB/512 GB SSD/Window...</td>\n",
       "      <td>₹59,990</td>\n",
       "      <td>4.4</td>\n",
       "    </tr>\n",
       "    <tr>\n",
       "      <th>21</th>\n",
       "      <td>ASUS TUF Gaming F15 (2022) Core i7 12th Gen - ...</td>\n",
       "      <td>₹1,18,518</td>\n",
       "      <td>4.7</td>\n",
       "    </tr>\n",
       "    <tr>\n",
       "      <th>22</th>\n",
       "      <td>MSI Katana GF66 Core i7 11th Gen - (16 GB/512 ...</td>\n",
       "      <td>₹89,990</td>\n",
       "      <td>4.4</td>\n",
       "    </tr>\n",
       "    <tr>\n",
       "      <th>23</th>\n",
       "      <td>Lenovo IdeaPad Gaming 3 Ryzen 7 Octa Core AMD ...</td>\n",
       "      <td>₹74,990</td>\n",
       "      <td>4.5</td>\n",
       "    </tr>\n",
       "  </tbody>\n",
       "</table>\n",
       "</div>"
      ],
      "text/plain": [
       "                                                 name      price rating\n",
       "0   MSI GF63 Thin Core i5 11th Gen - (8 GB/512 GB ...    ₹49,990    4.4\n",
       "1   acer Aspire 7 Ryzen 5 Hexa Core AMD R5-5500U -...    ₹49,990    4.5\n",
       "2   HP Pavilion Ryzen 5 Hexa Core AMD R5-5600H - (...    ₹62,990    4.6\n",
       "3   HP Pavilion Ryzen 5 Hexa Core AMD R5-5600H - (...    ₹59,990    4.4\n",
       "4   ASUS TUF Gaming F15 Core i5 10th Gen - (8 GB/5...    ₹58,990    4.4\n",
       "5   acer Aspire 7 Ryzen 5 Hexa Core 5500U - (16 GB...    ₹53,990    4.5\n",
       "6   MSI Core i5 11th Gen - (8 GB/512 GB SSD/Window...    ₹55,990    4.5\n",
       "7   Lenovo IdeaPad Gaming Core i5 11th Gen - (8 GB...    ₹59,000    4.3\n",
       "8   ASUS TUF Dash F15 Core i7 12th Gen - (16 GB/1 ...  ₹1,01,990    4.4\n",
       "9   ASUS ROG Strix G15 Ryzen 7 Octa Core AMD R7-48...    ₹87,990    4.6\n",
       "10  Lenovo IdeaPad Gaming 3 Core i5 11th Gen - (8 ...    ₹67,490    4.4\n",
       "11  acer Aspire 7 Core i5 12th Gen - (16 GB/512 GB...    ₹61,990    4.3\n",
       "12  MSI Sword 15 Core i5 12th Gen - (16 GB/512 GB ...    ₹85,990    4.6\n",
       "13  DELL Ryzen 5 Hexa Core AMD R5-5600H - (16 GB/5...    ₹70,990    4.6\n",
       "14  MSI Core i7 11th Gen - (8 GB/512 GB SSD/Window...    ₹68,990    4.4\n",
       "15  ASUS TUF Gaming A15 Ryzen 5 Hexa Core AMD R5-4...    ₹65,990    4.5\n",
       "16  ASUS TUF Gaming A17 with 90Whr Battery Ryzen 5...    ₹63,990    4.4\n",
       "17  ASUS TUF Gaming A15 with 90Whr Battery Ryzen 7...    ₹89,990    4.5\n",
       "18  DELL Core i5 11th Gen - (16 GB/512 GB SSD/Wind...    ₹72,317    4.1\n",
       "19  ASUS TUF Gaming F17 (2022) Core i7 12th Gen - ...  ₹1,14,990      4\n",
       "20  MSI Core i7 11th Gen - (8 GB/512 GB SSD/Window...    ₹59,990    4.4\n",
       "21  ASUS TUF Gaming F15 (2022) Core i7 12th Gen - ...  ₹1,18,518    4.7\n",
       "22  MSI Katana GF66 Core i7 11th Gen - (16 GB/512 ...    ₹89,990    4.4\n",
       "23  Lenovo IdeaPad Gaming 3 Ryzen 7 Octa Core AMD ...    ₹74,990    4.5"
      ]
     },
     "execution_count": 13,
     "metadata": {},
     "output_type": "execute_result"
    }
   ],
   "source": [
    "df=pd.DataFrame(product_list)\n",
    "df"
   ]
  },
  {
   "cell_type": "markdown",
   "id": "945e0fbc-ed28-4e4e-8f26-0e93cd81b125",
   "metadata": {},
   "source": [
    "> Beautiful Soup is not great to use for data that keep changing like AMAZON FLIPKART SITES"
   ]
  },
  {
   "cell_type": "code",
   "execution_count": null,
   "id": "88604cf0-83fd-47c1-8770-e79e7e5d1a9c",
   "metadata": {},
   "outputs": [],
   "source": []
  }
 ],
 "metadata": {
  "kernelspec": {
   "display_name": "Python [conda env:datascience_ml]",
   "language": "python",
   "name": "conda-env-datascience_ml-py"
  },
  "language_info": {
   "codemirror_mode": {
    "name": "ipython",
    "version": 3
   },
   "file_extension": ".py",
   "mimetype": "text/x-python",
   "name": "python",
   "nbconvert_exporter": "python",
   "pygments_lexer": "ipython3",
   "version": "3.10.4"
  }
 },
 "nbformat": 4,
 "nbformat_minor": 5
}
