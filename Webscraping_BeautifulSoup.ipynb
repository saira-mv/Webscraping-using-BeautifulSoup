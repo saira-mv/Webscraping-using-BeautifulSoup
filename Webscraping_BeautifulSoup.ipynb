{
 "cells": [
  {
   "cell_type": "markdown",
   "id": "3c28817c-30f7-430a-8404-d0979ea8a7c7",
   "metadata": {
    "tags": []
   },
   "source": [
    "# WEB SCRAPPING : Flipkart"
   ]
  },
  {
   "cell_type": "markdown",
   "id": "b18116b7-1fe8-49f0-8652-61a337da0bec",
   "metadata": {
    "tags": []
   },
   "source": [
    "#### From Flipkart site for gaming laptop, scrap the name ,price rating for the laptops in the page"
   ]
  },
  {
   "cell_type": "markdown",
   "id": "5265007e-942a-43ae-ae3f-25bbb65b1499",
   "metadata": {},
   "source": [
    "[link](https://www.flipkart.com/search?q=gaming+laptop&sid=6bo%2Cb5g&as=on&as-show=on&otracker=AS_QueryStore_OrganicAutoSuggest_2_2_na_na_na&otracker1=AS_QueryStore_OrganicAutoSuggest_2_2_na_na_na&as-pos=2&as-type=RECENT&suggestionId=gaming+laptop%7CLaptops&requestId=a4082108-acd2-445d-b164-623ab48dde9f&as-backfill=on&page=2)"
   ]
  },
  {
   "cell_type": "code",
   "execution_count": 104,
   "id": "f367fb82-aeac-445b-87e4-9a0953a99a02",
   "metadata": {},
   "outputs": [],
   "source": [
    "import pandas as pd\n",
    "from bs4 import BeautifulSoup\n",
    "import requests"
   ]
  },
  {
   "cell_type": "code",
   "execution_count": 105,
   "id": "ee898002-1491-4e5d-8d3a-53936b45a717",
   "metadata": {},
   "outputs": [],
   "source": [
    "url = \"https://www.flipkart.com/search?q=gaming+laptop&sid=6bo%2Cb5g&as=on&as-show=on&otracker=AS_QueryStore_OrganicAutoSuggest_2_2_na_na_na&otracker1=AS_QueryStore_OrganicAutoSuggest_2_2_na_na_na&as-pos=2&as-type=RECENT&suggestionId=gaming+laptop%7CLaptops&requestId=a4082108-acd2-445d-b164-623ab48dde9f&as-backfill=on&page=2\""
   ]
  },
  {
   "cell_type": "code",
   "execution_count": 106,
   "id": "e0b0606c-ff77-4246-9b4a-0f6b5cf154f3",
   "metadata": {},
   "outputs": [],
   "source": [
    "request = requests.get(url)"
   ]
  },
  {
   "cell_type": "code",
   "execution_count": 107,
   "id": "41921135-08d7-44bf-9a2d-04532865ea4a",
   "metadata": {
    "scrolled": true,
    "tags": []
   },
   "outputs": [],
   "source": [
    "#request.content"
   ]
  },
  {
   "cell_type": "markdown",
   "id": "1cb4ed84-4e02-428e-827e-b836e2f512c7",
   "metadata": {},
   "source": [
    ">  the HTML content of the page, needs to parse the data and store it in soup variable to structure it into a different format which will help in data extraction."
   ]
  },
  {
   "cell_type": "code",
   "execution_count": 109,
   "id": "c90394a7-9ca9-49ce-9746-a453ca456e7c",
   "metadata": {
    "scrolled": true,
    "tags": []
   },
   "outputs": [],
   "source": [
    "content = BeautifulSoup(request.content,'html.parser')"
   ]
  },
  {
   "cell_type": "markdown",
   "id": "2fd5864d-8180-46d9-9272-de631df1fda4",
   "metadata": {},
   "source": [
    ">to get visual representation of data"
   ]
  },
  {
   "cell_type": "code",
   "execution_count": 110,
   "id": "22212dc2-84e0-4abf-9b62-c29c3bd0f020",
   "metadata": {
    "scrolled": true,
    "tags": []
   },
   "outputs": [],
   "source": [
    "#print(content.prettify())"
   ]
  },
  {
   "cell_type": "markdown",
   "id": "c2ab236f-eded-4119-af2f-393d3d107cf7",
   "metadata": {},
   "source": [
    "> We need to scrap from the website the names, price and rating for the computers  \n",
    "> So to get name select it,, right click on name > Inspect > from the inspect window that opens check the html code for name   \n",
    "> since we right click to inspect name , the html code for name will be highlighted and shown.  \n",
    "> Similarly find for price and rating\n"
   ]
  },
  {
   "cell_type": "code",
   "execution_count": 111,
   "id": "46d9b3fc-1359-4462-9cba-66bb01c9a731",
   "metadata": {},
   "outputs": [],
   "source": [
    "name = content.find_all('div',attrs = {'class':'_4rR01T'})\n",
    "price = content.find_all('div',attrs = {'class':'_30jeq3 _1_WHN1'})\n",
    "ratings = content.find_all('div',attrs = {'class':'_3LWZlK'})"
   ]
  },
  {
   "cell_type": "code",
   "execution_count": 112,
   "id": "098aa1b4-6348-484d-80dd-ab728449dfde",
   "metadata": {},
   "outputs": [
    {
     "name": "stdout",
     "output_type": "stream",
     "text": [
      "4.3\n"
     ]
    }
   ],
   "source": [
    "print(ratings[7].text)"
   ]
  },
  {
   "cell_type": "code",
   "execution_count": 113,
   "id": "6020eba3-62bc-49b2-b0e9-a469886e2a61",
   "metadata": {},
   "outputs": [
    {
     "name": "stdout",
     "output_type": "stream",
     "text": [
      "24\n",
      "24\n",
      "37\n"
     ]
    }
   ],
   "source": [
    "print(len(name))\n",
    "print(len(price))\n",
    "print(len(ratings))"
   ]
  },
  {
   "cell_type": "code",
   "execution_count": null,
   "id": "f7d64e81-f0d8-4177-93c6-c694809d7c23",
   "metadata": {},
   "outputs": [],
   "source": []
  },
  {
   "cell_type": "code",
   "execution_count": 114,
   "id": "d82a6ca8-6f7f-45bb-ac4e-f4d728c97cc6",
   "metadata": {},
   "outputs": [
    {
     "name": "stdout",
     "output_type": "stream",
     "text": [
      "Lenovo IdeaPad Gaming 3 Core i5 11th Gen - (8 GB/512 GB SSD/Windows 11 Home/4 GB Graphics/NVIDIA GeFor...\n"
     ]
    }
   ],
   "source": [
    "print(name[0].text) # print name as text shown in website not as html code"
   ]
  },
  {
   "cell_type": "code",
   "execution_count": 115,
   "id": "561eac84-9897-448f-a0c4-c291d9646740",
   "metadata": {},
   "outputs": [
    {
     "name": "stdout",
     "output_type": "stream",
     "text": [
      "₹67,490\n"
     ]
    }
   ],
   "source": [
    "print(price[0].text)"
   ]
  },
  {
   "cell_type": "code",
   "execution_count": 116,
   "id": "3671f4fa-6ba9-4b57-a8f0-b4e58bb0e2b8",
   "metadata": {},
   "outputs": [
    {
     "name": "stdout",
     "output_type": "stream",
     "text": [
      "4.4\n"
     ]
    }
   ],
   "source": [
    "print(ratings[0].text)"
   ]
  },
  {
   "cell_type": "code",
   "execution_count": 117,
   "id": "d80b3d20-fc42-4827-9165-ce1ca25ae506",
   "metadata": {},
   "outputs": [
    {
     "name": "stdout",
     "output_type": "stream",
     "text": [
      "acer Aspire 7 Core i5 10th Gen - (8 GB/512 GB SSD/Windows 10 Home/4 GB Graphics/NVIDIA GeForce GTX 165...\n",
      "₹54,990\n",
      "4.4\n"
     ]
    }
   ],
   "source": [
    "print(name[1].text)\n",
    "print(price[1].text)\n",
    "print(ratings[1].text)"
   ]
  },
  {
   "cell_type": "markdown",
   "id": "d4c2e6a2-e4d6-43e5-b0c7-2101cf81b930",
   "metadata": {},
   "source": [
    ">Till now we have just extracted the data of one laptop but now we need the data of all the laptops available on the page so we will be run a loop and store the data in the defined lists."
   ]
  },
  {
   "cell_type": "code",
   "execution_count": 118,
   "id": "c73c6743-6f12-4ea7-a168-5021a657333c",
   "metadata": {},
   "outputs": [],
   "source": [
    "product = content.find_all(\"div\",{'class':'_2kHMtA'})"
   ]
  },
  {
   "cell_type": "code",
   "execution_count": 119,
   "id": "90bbb585-4c09-4c71-ad64-47a6635f306b",
   "metadata": {},
   "outputs": [],
   "source": [
    "product_name = []\n",
    "product_price = []\n",
    "product_rating = []\n",
    "for i in product: \n",
    "    \n",
    "    name = i.find(\"div\",{'class':'_4rR01T'}).text.strip()         # .strip() removes whitespace and characters from beginings and end of string\n",
    "    price = i.find(\"div\",{'class':'_30jeq3 _1_WHN1'}).text.strip()\n",
    "    rating = i.find(\"div\",{'class':'_3LWZlK'})\n",
    "    if rating is  None:\n",
    "        rating=0\n",
    "    else:\n",
    "        rating=rating.text.strip()\n",
    "    product_name.append(name)\n",
    "    product_price.append(price)\n",
    "    product_rating.append(rating)"
   ]
  },
  {
   "cell_type": "code",
   "execution_count": 120,
   "id": "d0c64f5f-7b4b-4924-9778-5ab57f7f9abb",
   "metadata": {},
   "outputs": [
    {
     "name": "stdout",
     "output_type": "stream",
     "text": [
      "24\n",
      "24\n",
      "24\n"
     ]
    }
   ],
   "source": [
    "print(len(product_name))\n",
    "print(len(product_price))\n",
    "print(len(product_rating))"
   ]
  },
  {
   "cell_type": "code",
   "execution_count": 121,
   "id": "cc76eab7-ec0d-451e-932d-21e052df4a5d",
   "metadata": {},
   "outputs": [
    {
     "data": {
      "text/html": [
       "<div>\n",
       "<style scoped>\n",
       "    .dataframe tbody tr th:only-of-type {\n",
       "        vertical-align: middle;\n",
       "    }\n",
       "\n",
       "    .dataframe tbody tr th {\n",
       "        vertical-align: top;\n",
       "    }\n",
       "\n",
       "    .dataframe thead th {\n",
       "        text-align: right;\n",
       "    }\n",
       "</style>\n",
       "<table border=\"1\" class=\"dataframe\">\n",
       "  <thead>\n",
       "    <tr style=\"text-align: right;\">\n",
       "      <th></th>\n",
       "      <th>Product_Name</th>\n",
       "      <th>Price</th>\n",
       "      <th>Rating</th>\n",
       "    </tr>\n",
       "  </thead>\n",
       "  <tbody>\n",
       "    <tr>\n",
       "      <th>0</th>\n",
       "      <td>Lenovo IdeaPad Gaming 3 Core i5 11th Gen - (8 ...</td>\n",
       "      <td>₹67,490</td>\n",
       "      <td>4.4</td>\n",
       "    </tr>\n",
       "    <tr>\n",
       "      <th>1</th>\n",
       "      <td>acer Aspire 7 Core i5 10th Gen - (8 GB/512 GB ...</td>\n",
       "      <td>₹54,990</td>\n",
       "      <td>4.4</td>\n",
       "    </tr>\n",
       "    <tr>\n",
       "      <th>2</th>\n",
       "      <td>HP Pavilion Ryzen 5 Hexa Core AMD R5-5600H - (...</td>\n",
       "      <td>₹59,990</td>\n",
       "      <td>4.4</td>\n",
       "    </tr>\n",
       "    <tr>\n",
       "      <th>3</th>\n",
       "      <td>HP Pavilion Ryzen 5 Hexa Core AMD R5-5600H - (...</td>\n",
       "      <td>₹62,990</td>\n",
       "      <td>4.6</td>\n",
       "    </tr>\n",
       "    <tr>\n",
       "      <th>4</th>\n",
       "      <td>MSI GP66 Leopard Core i7 11th Gen - (16 GB/1 T...</td>\n",
       "      <td>₹1,24,990</td>\n",
       "      <td>4.5</td>\n",
       "    </tr>\n",
       "    <tr>\n",
       "      <th>5</th>\n",
       "      <td>acer Nitro 5 Ryzen 5 Hexa Core AMD R5-5600H - ...</td>\n",
       "      <td>₹58,866</td>\n",
       "      <td>4.5</td>\n",
       "    </tr>\n",
       "    <tr>\n",
       "      <th>6</th>\n",
       "      <td>HP Pavilion Gaming Ryzen 7 Octa Core AMD R7-58...</td>\n",
       "      <td>₹75,990</td>\n",
       "      <td>4.3</td>\n",
       "    </tr>\n",
       "    <tr>\n",
       "      <th>7</th>\n",
       "      <td>Lenovo IdeaPad Gaming Core i5 11th Gen - (8 GB...</td>\n",
       "      <td>₹55,290</td>\n",
       "      <td>4.3</td>\n",
       "    </tr>\n",
       "    <tr>\n",
       "      <th>8</th>\n",
       "      <td>MSI Delta 15 AMD Advantage Edition Ryzen 9 Oct...</td>\n",
       "      <td>₹1,19,990</td>\n",
       "      <td>4.6</td>\n",
       "    </tr>\n",
       "    <tr>\n",
       "      <th>9</th>\n",
       "      <td>ASUS ROG Strix G15 (2022) with 90Whr Battery R...</td>\n",
       "      <td>₹1,35,990</td>\n",
       "      <td>4.5</td>\n",
       "    </tr>\n",
       "    <tr>\n",
       "      <th>10</th>\n",
       "      <td>ASUS ROG Strix G15 with 90Whr Battery Ryzen 7 ...</td>\n",
       "      <td>₹1,46,990</td>\n",
       "      <td>5</td>\n",
       "    </tr>\n",
       "    <tr>\n",
       "      <th>11</th>\n",
       "      <td>ASUS ROG Strix G15 (2022) with 90Whr Battery R...</td>\n",
       "      <td>₹1,40,990</td>\n",
       "      <td>5</td>\n",
       "    </tr>\n",
       "    <tr>\n",
       "      <th>12</th>\n",
       "      <td>HP Pavilion Ryzen 5 Hexa Core AMD R5-5600H - (...</td>\n",
       "      <td>₹60,990</td>\n",
       "      <td>4.4</td>\n",
       "    </tr>\n",
       "    <tr>\n",
       "      <th>13</th>\n",
       "      <td>Lenovo IdeaPad Gaming 3 Ryzen 5 Hexa Core AMD ...</td>\n",
       "      <td>₹70,399</td>\n",
       "      <td>4.3</td>\n",
       "    </tr>\n",
       "    <tr>\n",
       "      <th>14</th>\n",
       "      <td>ASUS ROG Strix G15 (2022) Ryzen 7 Octa Core AM...</td>\n",
       "      <td>₹1,05,990</td>\n",
       "      <td>4.6</td>\n",
       "    </tr>\n",
       "    <tr>\n",
       "      <th>15</th>\n",
       "      <td>HP Victus Core i5 12th Gen - (8 GB/512 GB SSD/...</td>\n",
       "      <td>₹66,990</td>\n",
       "      <td>4.3</td>\n",
       "    </tr>\n",
       "    <tr>\n",
       "      <th>16</th>\n",
       "      <td>HP Victus Core i5 11th Gen - (8 GB/512 GB SSD/...</td>\n",
       "      <td>₹67,990</td>\n",
       "      <td>4.3</td>\n",
       "    </tr>\n",
       "    <tr>\n",
       "      <th>17</th>\n",
       "      <td>acer Predator Helios 300 Core i9 11th Gen - (1...</td>\n",
       "      <td>₹1,24,990</td>\n",
       "      <td>4.5</td>\n",
       "    </tr>\n",
       "    <tr>\n",
       "      <th>18</th>\n",
       "      <td>MSI Alpha 15 AMD Advantage Edition Ryzen 7 Oct...</td>\n",
       "      <td>₹79,990</td>\n",
       "      <td>4.5</td>\n",
       "    </tr>\n",
       "    <tr>\n",
       "      <th>19</th>\n",
       "      <td>ASUS TUF Gaming F15 Core i5 10th Gen - (8 GB/1...</td>\n",
       "      <td>₹65,990</td>\n",
       "      <td>4.5</td>\n",
       "    </tr>\n",
       "    <tr>\n",
       "      <th>20</th>\n",
       "      <td>DELL Ryzen 7 Octa Core AMD R7-6800H - (16 GB/5...</td>\n",
       "      <td>₹99,990</td>\n",
       "      <td>0</td>\n",
       "    </tr>\n",
       "    <tr>\n",
       "      <th>21</th>\n",
       "      <td>Lenovo Ideapad Gaming 3 Ryzen 5 Hexa Core AMD ...</td>\n",
       "      <td>₹74,511</td>\n",
       "      <td>4.6</td>\n",
       "    </tr>\n",
       "    <tr>\n",
       "      <th>22</th>\n",
       "      <td>HP Victus Core i7 12th Gen - (8 GB/512 GB SSD/...</td>\n",
       "      <td>₹87,990</td>\n",
       "      <td>4.2</td>\n",
       "    </tr>\n",
       "    <tr>\n",
       "      <th>23</th>\n",
       "      <td>ASUS ROG Strix SCAR 17 (2022) Core i9 12th Gen...</td>\n",
       "      <td>₹2,61,990</td>\n",
       "      <td>0</td>\n",
       "    </tr>\n",
       "  </tbody>\n",
       "</table>\n",
       "</div>"
      ],
      "text/plain": [
       "                                         Product_Name      Price Rating\n",
       "0   Lenovo IdeaPad Gaming 3 Core i5 11th Gen - (8 ...    ₹67,490    4.4\n",
       "1   acer Aspire 7 Core i5 10th Gen - (8 GB/512 GB ...    ₹54,990    4.4\n",
       "2   HP Pavilion Ryzen 5 Hexa Core AMD R5-5600H - (...    ₹59,990    4.4\n",
       "3   HP Pavilion Ryzen 5 Hexa Core AMD R5-5600H - (...    ₹62,990    4.6\n",
       "4   MSI GP66 Leopard Core i7 11th Gen - (16 GB/1 T...  ₹1,24,990    4.5\n",
       "5   acer Nitro 5 Ryzen 5 Hexa Core AMD R5-5600H - ...    ₹58,866    4.5\n",
       "6   HP Pavilion Gaming Ryzen 7 Octa Core AMD R7-58...    ₹75,990    4.3\n",
       "7   Lenovo IdeaPad Gaming Core i5 11th Gen - (8 GB...    ₹55,290    4.3\n",
       "8   MSI Delta 15 AMD Advantage Edition Ryzen 9 Oct...  ₹1,19,990    4.6\n",
       "9   ASUS ROG Strix G15 (2022) with 90Whr Battery R...  ₹1,35,990    4.5\n",
       "10  ASUS ROG Strix G15 with 90Whr Battery Ryzen 7 ...  ₹1,46,990      5\n",
       "11  ASUS ROG Strix G15 (2022) with 90Whr Battery R...  ₹1,40,990      5\n",
       "12  HP Pavilion Ryzen 5 Hexa Core AMD R5-5600H - (...    ₹60,990    4.4\n",
       "13  Lenovo IdeaPad Gaming 3 Ryzen 5 Hexa Core AMD ...    ₹70,399    4.3\n",
       "14  ASUS ROG Strix G15 (2022) Ryzen 7 Octa Core AM...  ₹1,05,990    4.6\n",
       "15  HP Victus Core i5 12th Gen - (8 GB/512 GB SSD/...    ₹66,990    4.3\n",
       "16  HP Victus Core i5 11th Gen - (8 GB/512 GB SSD/...    ₹67,990    4.3\n",
       "17  acer Predator Helios 300 Core i9 11th Gen - (1...  ₹1,24,990    4.5\n",
       "18  MSI Alpha 15 AMD Advantage Edition Ryzen 7 Oct...    ₹79,990    4.5\n",
       "19  ASUS TUF Gaming F15 Core i5 10th Gen - (8 GB/1...    ₹65,990    4.5\n",
       "20  DELL Ryzen 7 Octa Core AMD R7-6800H - (16 GB/5...    ₹99,990      0\n",
       "21  Lenovo Ideapad Gaming 3 Ryzen 5 Hexa Core AMD ...    ₹74,511    4.6\n",
       "22  HP Victus Core i7 12th Gen - (8 GB/512 GB SSD/...    ₹87,990    4.2\n",
       "23  ASUS ROG Strix SCAR 17 (2022) Core i9 12th Gen...  ₹2,61,990      0"
      ]
     },
     "execution_count": 121,
     "metadata": {},
     "output_type": "execute_result"
    }
   ],
   "source": [
    "\n",
    "data = pd.DataFrame({'Product_Name':product_name,'Price':product_price,'Rating':product_rating})\n",
    "data"
   ]
  },
  {
   "cell_type": "code",
   "execution_count": null,
   "id": "4b52a78e-3bc4-45f9-a0cf-61e04fa16c38",
   "metadata": {},
   "outputs": [],
   "source": []
  },
  {
   "cell_type": "code",
   "execution_count": null,
   "id": "881de4ea-be1e-4b09-a7f3-407a2d385ea2",
   "metadata": {},
   "outputs": [],
   "source": []
  }
 ],
 "metadata": {
  "kernelspec": {
   "display_name": "Python [conda env:datascience_ml]",
   "language": "python",
   "name": "conda-env-datascience_ml-py"
  },
  "language_info": {
   "codemirror_mode": {
    "name": "ipython",
    "version": 3
   },
   "file_extension": ".py",
   "mimetype": "text/x-python",
   "name": "python",
   "nbconvert_exporter": "python",
   "pygments_lexer": "ipython3",
   "version": "3.10.4"
  }
 },
 "nbformat": 4,
 "nbformat_minor": 5
}
